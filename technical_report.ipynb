{
 "cells": [
  {
   "cell_type": "markdown",
   "metadata": {},
   "source": [
    "### Quantified Self Project: \n",
    "# Personal Flying and Working Correlations \n",
    "by Jackie Ramsey  \n",
    "CPSC 222, Fall 2021"
   ]
  },
  {
   "cell_type": "markdown",
   "metadata": {},
   "source": [
    "## Project Domain:  \n",
    "My project domain is aviation, more specifically flying data. I am interested in this domain because I am a pilot and am working on my certifications. When I am home, I also work at the flight school that I learn at. I chose this domain because I was interested in the correlation between my flying hours data and my work hours data that I have been collecting this past summer. \n",
    "\n",
    "### Dataset:\n",
    "* flying_logbook.csv\n",
    "    * Date\n",
    "    * Total Hours - total hours flying per day\n",
    "    * Dual Received - hours flying with instructor\n",
    "    * Pilot in Command - hours flying without instructor\n",
    "    * Day - hours flying during day\n",
    "    * Night - hours flying during night\n",
    "    * Cross-Country - hours flying a distance further than 25nm from departure point\n",
    "    * Instrument - hours flying using instruments\n",
    "    * Day Landings - amount of landings during the day\n",
    "    * Night Landings - amount of landings during the night\n",
    "* work_hours.csv\n",
    "    * Date\n",
    "    * Work - if i worked (yes/no)\n",
    "    * Work Hours - total hours of work\n",
    "\n",
    "### Classify\n",
    "* predict if I flew or not on a certain day\n",
    "*  whether there will be a positive correlation between the dataset\n",
    "*  whether there will be a strong negative correlation between the dataset\n",
    "* if there is a relationship between work days and fly days\n",
    "\n",
    "### Potential Impacts\n",
    "Potential impacts include but are not limited to determining whether or not you can get a job, pass an exam, or have the ability to fly a plane in general.\n",
    "\n",
    "### Stakeholders\n",
    "* flight instructor\n",
    "* designated pilot examiners\n",
    "* boss or hiring "
   ]
  },
  {
   "cell_type": "markdown",
   "metadata": {},
   "source": [
    "## Data Analysis\n",
    "* merge data\n",
    "* clean data\n",
    "* data aggregation\n",
    "* visualizations\n",
    "* hypothesis tests"
   ]
  },
  {
   "cell_type": "code",
   "execution_count": 1,
   "metadata": {},
   "outputs": [],
   "source": [
    "from numpy.core.fromnumeric import mean\n",
    "import pandas as pd\n",
    "from pandas.io.parsers import read_csv\n",
    "import numpy as np\n",
    "import matplotlib.pyplot as plt \n",
    "import scipy.stats as stats\n",
    "import utils\n",
    "\n",
    "# load data into DataFrame\n",
    "flying_logbook = pd.read_csv(\"flying_logbook.csv\")\n",
    "work_hours = pd.read_csv(\"work_hours.csv\")\n",
    "\n",
    "flying_logbook_df = pd.DataFrame(flying_logbook)\n",
    "work_hours_df = pd.DataFrame(work_hours)"
   ]
  },
  {
   "cell_type": "code",
   "execution_count": 2,
   "metadata": {},
   "outputs": [],
   "source": [
    "# merge data on \"Date\"\n",
    "merge_df = flying_logbook_df.merge(work_hours_df, on=\"Date\")\n",
    "merge_df = pd.DataFrame(merge_df)"
   ]
  },
  {
   "cell_type": "markdown",
   "metadata": {},
   "source": [
    "### Clean Data\n",
    "* remove rows where i do not work or fly on that day\n",
    "* add column that says whether or no I fly\n",
    "* add column that says whether I fly and work on that day"
   ]
  },
  {
   "cell_type": "code",
   "execution_count": 3,
   "metadata": {},
   "outputs": [],
   "source": [
    "# clean data \n",
    "work_or_flying = []  # column where either work or flew that day\n",
    "flying = []   # column where flew that day\n",
    "\n",
    "# go through each date and check dif cases\n",
    "for i in range(len(merge_df)):\n",
    "    # neither worked or flew\n",
    "    if merge_df.at[i, \"Work\"] == \"No\" and merge_df.at[i, \"Total Hours\"] == 0:\n",
    "        work_or_flying.append(\"NaN\")\n",
    "        flying.append(\"NaN\")\n",
    "    # flew and work\n",
    "    elif merge_df.at[i, \"Work\"] == \"Yes\" and merge_df.at[i, \"Total Hours\"] != 0:\n",
    "        work_or_flying.append(\"Yes\")\n",
    "        flying.append(\"Yes\")\n",
    "    else:\n",
    "        work_or_flying.append(\"No\")\n",
    "        # no work, yes fly\n",
    "        if merge_df.at[i, \"Work\"] == \"No\" and merge_df.at[i, \"Total Hours\"] != 0:\n",
    "            flying.append(\"Yes\")\n",
    "        else:\n",
    "            flying.append(\"No\")\n",
    "\n",
    "# assign to columns\n",
    "merge_df[\"Fly\"] = flying\n",
    "merge_df[\"Fly and Work\"] = work_or_flying\n",
    "\n",
    "# drop rows where neither work or flying\n",
    "for i in range(len(work_or_flying)):\n",
    "    if work_or_flying[i] == \"NaN\":\n",
    "        merge_df = merge_df.drop(i)\n",
    "\n",
    "# reset index and send cleaned data to .csv\n",
    "merge_df.reset_index(inplace=True)\n",
    "merge_df = merge_df.drop(\"index\", axis=1)\n",
    "merge_df.to_csv(\"merge_cleaned.csv\")"
   ]
  },
  {
   "cell_type": "markdown",
   "metadata": {},
   "source": [
    "Challenges:\n",
    "It was difficult to find an efficient method of sorting the flying and work data so I could pull the non working and non flying rows out of the dataset."
   ]
  },
  {
   "cell_type": "markdown",
   "metadata": {},
   "source": [
    "### Aggregation\n",
    "* group by\n",
    "    * whether worked or not\n",
    "* split, apply, combine\n",
    "    * Flight lessons (dual received) on days I also worked"
   ]
  },
  {
   "cell_type": "code",
   "execution_count": 4,
   "metadata": {},
   "outputs": [
    {
     "name": "stdout",
     "output_type": "stream",
     "text": [
      "Work\n",
      "No     1.922222\n",
      "Yes    0.738462\n",
      "Name: Dual Received, dtype: float64\n"
     ]
    }
   ],
   "source": [
    "# group by Work\n",
    "work_df = merge_df.groupby(\"Work\")\n",
    "\n",
    "# split, apply, combine\n",
    "# find average flying time\n",
    "daily_hours_ser = pd.Series(dtype=float)\n",
    "daily_hours_ser = work_df[\"Dual Received\"].mean()\n",
    "print(daily_hours_ser)"
   ]
  },
  {
   "cell_type": "markdown",
   "metadata": {},
   "source": [
    "According to the aggregation methods, I took flight lessons more when I do not have work then when I did have work. This could be due to time available and scheduling conflicts"
   ]
  },
  {
   "cell_type": "markdown",
   "metadata": {},
   "source": [
    "### Visualizations"
   ]
  },
  {
   "cell_type": "code",
   "execution_count": 5,
   "metadata": {},
   "outputs": [
    {
     "data": {
      "image/png": "[encoded data removed]",
      "text/plain": [
       "<Figure size 432x288 with 1 Axes>"
      ]
     },
     "metadata": {
      "needs_background": "light"
     },
     "output_type": "display_data"
    }
   ],
   "source": [
    "# scatter plot of amount of landings per flight\n",
    "plt.figure()\n",
    "y1 = merge_df[\"Day Landings\"].squeeze()\n",
    "x1 = merge_df[\"Total Hours\"].squeeze()\n",
    "plt.scatter(x1, y1, color=\"red\", marker=\"*\")\n",
    "plt.title(\"Amount of Landings for Durations of Flying\")\n",
    "plt.xlabel(\"Flight Duration (hrs)\")\n",
    "plt.ylabel(\"Number of Landings\")\n",
    "plt.show()"
   ]
  },
  {
   "cell_type": "markdown",
   "metadata": {},
   "source": [
    "According to the scatter plot, there is a higher concentration of the amount of landings I do during a flight around 1-3 hours. This could be due to the type of flying I am doing. Short and long flights are usually for sole travel from point a to point b. Whereas mid length flights are often practice and lessons."
   ]
  },
  {
   "cell_type": "code",
   "execution_count": 6,
   "metadata": {},
   "outputs": [
    {
     "data": {
      "image/png": "[encoded data removed]",
      "text/plain": [
       "<Figure size 432x288 with 1 Axes>"
      ]
     },
     "metadata": {},
     "output_type": "display_data"
    }
   ],
   "source": [
    "# pi chart of pic or dual\n",
    "plt.figure()\n",
    "x = merge_df[\"Pilot in Command\"].squeeze()\n",
    "y = merge_df[\"Dual Received\"].squeeze()\n",
    "xbar = mean(x)\n",
    "ybar = mean(y)\n",
    "arr = [xbar, ybar]\n",
    "label_types = [\"Pilot in Command\", \"Dual Received\"]\n",
    "plt.pie(arr, labels=label_types, autopct=\"%1.1f%%\")\n",
    "plt.show()"
   ]
  },
  {
   "cell_type": "markdown",
   "metadata": {},
   "source": [
    "According to the pie chart, I did about 3x more lessons than casual flying.  This shows that I focused more on lessons this summer than casual/fun flying."
   ]
  },
  {
   "cell_type": "markdown",
   "metadata": {},
   "source": [
    "### Statistical Hypotheses"
   ]
  },
  {
   "cell_type": "markdown",
   "metadata": {},
   "source": [
    "Do I fly more on days I have work or days that I do not have work?  \n",
    "two sample independant t test\n",
    "\n",
    "Step 1:  \n",
    "$H_0$: $ flyonly hrs > flyandwork hrs$  \n",
    "$H_1$: $ flyonly hrs \\leq flyandwork hrs$  \n",
    "\n",
    "Step 2:  \n",
    "Level of significance: $\\alpha$ = 0.05 \n",
    "\n",
    "Step 3:  \n",
    "$s_p^2 = \\frac{(n_1 - 1)s_1^2 + (n_2 - 1)s_2^2}{n_1 + n_2 - 2}$  \n",
    "$t=\\frac{\\overline{X_1} - \\overline{X_2}}{\\sqrt{s_p^2(\\frac{1}{n_1}+\\frac{1}{n_2})}}$  \n",
    "degrees of freedom: $df = n1 + n2 - 2$ \n",
    "\n",
    "Step 4:  \n",
    "p-value/2: $0.373$  \n",
    "\n",
    "Step 5:  \n",
    "Since, $0.373 < 0.05$ is not true, then we do not reject H0  "
   ]
  },
  {
   "cell_type": "code",
   "execution_count": 7,
   "metadata": {},
   "outputs": [
    {
     "name": "stdout",
     "output_type": "stream",
     "text": [
      "sp2: 0.8012354497354497\n",
      "t: 0.32594622369796916\n",
      "p/2: 0.373363917499927\n",
      "Do not reject H0\n"
     ]
    }
   ],
   "source": [
    "both = []\n",
    "flyonly = []\n",
    "for i in range(len(merge_df)):\n",
    "    if merge_df.at[i, \"Fly and Work\"] == \"Yes\":\n",
    "        both.append(merge_df.at[i, \"Total Hours\"])\n",
    "    if merge_df.at[i, \"Fly and Work\"] == \"No\" and merge_df.at[i, \"Fly\"] == \"Yes\":\n",
    "        flyonly.append(merge_df.at[i, \"Total Hours\"])\n",
    "both = pd.Series(both)\n",
    "flyonly = pd.Series(flyonly)\n",
    "\n",
    "n1 = len(flyonly)\n",
    "n2 = len(both)\n",
    "df = n1 + n2 -2\n",
    "\n",
    "sp2 = ((n1 - 1) * flyonly.std() ** 2 + (n2 - 1) * both.std() ** 2) / df\n",
    "t = (flyonly.mean() - both.mean()) / np.sqrt(sp2 * (1 / n1 + 1 / n2))\n",
    "t, p = stats.ttest_ind(flyonly, both)\n",
    "print(\"sp2:\", sp2)\n",
    "print(\"t:\", t)\n",
    "print(\"p/2:\", p/2)\n",
    "\n",
    "if p/2 < 0.05:\n",
    "    print(\"Reject H0\")\n",
    "else:\n",
    "    print(\"Do not reject H0\")"
   ]
  },
  {
   "cell_type": "markdown",
   "metadata": {},
   "source": [
    "Are instrument flights longer than non instrument flights?  \n",
    "two sample independant t test\n",
    "\n",
    "Step 1:  \n",
    "$H_0$: $ instrumen hrs > non instrument hrs$  \n",
    "$H_1$: $ instrument hrs \\leq non instrument hrs$  \n",
    "\n",
    "Step 2:  \n",
    "Level of significance: $\\alpha$ = 0.05 \n",
    "\n",
    "Step 3:  \n",
    "$s_p^2 = \\frac{(n_1 - 1)s_1^2 + (n_2 - 1)s_2^2}{n_1 + n_2 - 2}$  \n",
    "$t=\\frac{\\overline{X_1} - \\overline{X_2}}{\\sqrt{s_p^2(\\frac{1}{n_1}+\\frac{1}{n_2})}}$  \n",
    "degrees of freedom: $df = n1 + n2 - 2$ \n",
    "\n",
    "Step 4:  \n",
    "p-value/2: $0.0003$  \n",
    "\n",
    "Step 5:  \n",
    "Since, $0.0003 < 0.05$ is true, then we reject H0  "
   ]
  },
  {
   "cell_type": "code",
   "execution_count": 8,
   "metadata": {},
   "outputs": [
    {
     "name": "stdout",
     "output_type": "stream",
     "text": [
      "sp2: 1.3697951048951051\n",
      "t: 3.5928014951617993\n",
      "p/2: 0.0003494370267483079\n",
      "Reject H0\n"
     ]
    }
   ],
   "source": [
    "ifr = []\n",
    "vfr = []\n",
    "for i in range(len(merge_df)):\n",
    "    if merge_df.at[i, \"Instrument\"] != 0:\n",
    "        ifr.append(merge_df.at[i, \"Total Hours\"])\n",
    "    else:\n",
    "        vfr.append(merge_df.at[i, \"Total Hours\"])\n",
    "ifr = pd.Series(ifr)\n",
    "vfr = pd.Series(vfr)\n",
    "\n",
    "n1 = len(ifr)\n",
    "n2 = len(vfr)\n",
    "df = n1 + n2 -2\n",
    "\n",
    "# Step 4\n",
    "sp2 = ((n1 - 1) * ifr.std() ** 2 + (n2 - 1) * vfr.std() ** 2) / df\n",
    "t = (ifr.mean() - vfr.mean()) / np.sqrt(sp2 * (1 / n1 + 1 / n2))\n",
    "t, p = stats.ttest_ind(ifr, vfr)\n",
    "print(\"sp2:\", sp2)\n",
    "print(\"t:\", t)\n",
    "print(\"p/2:\", p/2)\n",
    "\n",
    "# Step 5\n",
    "if p < 0.05:\n",
    "    print(\"Reject H0\")\n",
    "else:\n",
    "    print(\"Do not reject H0\")"
   ]
  },
  {
   "cell_type": "markdown",
   "metadata": {},
   "source": [
    "## Classification\n",
    "* kNN\n",
    "    * predict if I flew or not on a certain day\n",
    "* linear regression\n",
    "    * find correlation between landings and lessons\n",
    "        * hypothesis: there will be a positive correlation between the dataset\n",
    "    * find correlation between time worked and flying\n",
    "        * hypothesis: there will be a strong negative correlation between the dataset\n"
   ]
  },
  {
   "cell_type": "code",
   "execution_count": 9,
   "metadata": {},
   "outputs": [
    {
     "name": "stdout",
     "output_type": "stream",
     "text": [
      "['Yes' 'No' 'Yes' 'Yes' 'Yes' 'Yes' 'No' 'Yes' 'Yes' 'Yes' 'No' 'No' 'No'\n",
      " 'No' 'No']\n"
     ]
    }
   ],
   "source": [
    "from sklearn.preprocessing import MinMaxScaler\n",
    "from sklearn.neighbors import KNeighborsClassifier\n",
    "from sklearn.model_selection import train_test_split\n",
    "\n",
    "X = merge_df.drop(columns=[\"Date\",\"Work\",\"Fly and Work\",\"Fly\"])\n",
    "y = merge_df[\"Fly\"]\n",
    "\n",
    "scaler = MinMaxScaler()\n",
    "X = scaler.fit_transform(X)\n",
    "\n",
    "X_train, X_test, y_train, y_test = train_test_split(X, y, random_state=0, stratify=y)\n",
    "\n",
    "knn_clf = KNeighborsClassifier(n_neighbors=3, metric=\"euclidean\")\n",
    "knn_clf.fit(X_train, y_train)\n",
    "\n",
    "y_predicted = knn_clf.predict(X_test)\n",
    "print(y_predicted)"
   ]
  },
  {
   "cell_type": "markdown",
   "metadata": {},
   "source": [
    "From this kNN test we can conclude that \"Yes\", I mostly likely flew on a certain day"
   ]
  },
  {
   "cell_type": "code",
   "execution_count": 10,
   "metadata": {},
   "outputs": [
    {
     "name": "stdout",
     "output_type": "stream",
     "text": [
      "m: 0.204143375132195 b: 0.36733645565795503 r: 0.6346422707776496\n"
     ]
    },
    {
     "data": {
      "image/png": "[encoded data removed]",
      "text/plain": [
       "<Figure size 432x288 with 1 Axes>"
      ]
     },
     "metadata": {
      "needs_background": "light"
     },
     "output_type": "display_data"
    }
   ],
   "source": [
    "import scipy.stats as stats\n",
    "\n",
    "x = merge_df[\"Day Landings\"]\n",
    "y = merge_df[\"Dual Received\"]\n",
    "m, b, r, p_val, std_err = stats.linregress(x, y)\n",
    "print(\"m:\", m, \"b:\", b, \"r:\", r)\n",
    "\n",
    "plt.scatter(x, y)\n",
    "plt.plot(x, m*x+b, c=\"red\", lw=5)\n",
    "plt.xlabel(\"Amount of Landings\")\n",
    "plt.ylabel(\"Flight Lesson Length\")\n",
    "plt.show()"
   ]
  },
  {
   "cell_type": "code",
   "execution_count": 11,
   "metadata": {},
   "outputs": [
    {
     "name": "stdout",
     "output_type": "stream",
     "text": [
      "m: 0.204143375132195 b: 0.36733645565795503 r: 0.6346422707776496\n",
      "prediction: 20.781673968877456 residual (error):  179.21832603112256\n",
      "R^2 0.4027708118578115\n"
     ]
    }
   ],
   "source": [
    "m, b, r, p_val, std_err = stats.linregress(x, y)\n",
    "print(\"m:\", m, \"b:\", b, \"r:\", r)\n",
    "\n",
    "test_instance = 100\n",
    "y_predicted = m * test_instance + b\n",
    "print(\"prediction:\", y_predicted, \"residual (error): \", 2 * test_instance - y_predicted)\n",
    "\n",
    "print(\"R^2\", r * r)"
   ]
  },
  {
   "cell_type": "markdown",
   "metadata": {},
   "source": [
    "The correlation of landings and lessons has positive linear correlation of 0.402. As the hours of flying increased, so did the amount of landings I did. This could be due to time available to perform landings."
   ]
  },
  {
   "cell_type": "code",
   "execution_count": 12,
   "metadata": {},
   "outputs": [
    {
     "name": "stdout",
     "output_type": "stream",
     "text": [
      "m: -0.2096884672115269 b: 2.1171569338832343 r: -0.5060783186839283\n"
     ]
    },
    {
     "data": {
      "image/png": "[encoded data removed]",
      "text/plain": [
       "<Figure size 432x288 with 1 Axes>"
      ]
     },
     "metadata": {
      "needs_background": "light"
     },
     "output_type": "display_data"
    }
   ],
   "source": [
    "y = merge_df[\"Total Hours\"]\n",
    "x = merge_df[\"Work Hours\"]\n",
    "m, b, r, p_val, std_err = stats.linregress(x, y)\n",
    "print(\"m:\", m, \"b:\", b, \"r:\", r)\n",
    "\n",
    "plt.scatter(x, y)\n",
    "plt.plot(x, m*x+b, c=\"red\", lw=5)\n",
    "plt.ylabel(\"Flying Hours\")\n",
    "plt.xlabel(\"Work Hours\")\n",
    "plt.show()"
   ]
  },
  {
   "cell_type": "code",
   "execution_count": 13,
   "metadata": {},
   "outputs": [
    {
     "name": "stdout",
     "output_type": "stream",
     "text": [
      "m: -0.2096884672115269 b: 2.1171569338832343 r: -0.5060783186839283\n",
      "prediction: -18.851689787269457 residual (error):  218.85168978726946\n",
      "R^2 0.25611526464195167\n"
     ]
    }
   ],
   "source": [
    "m, b, r, p_val, std_err = stats.linregress(x, y)\n",
    "print(\"m:\", m, \"b:\", b, \"r:\", r)\n",
    "\n",
    "test_instance = 100\n",
    "y_predicted = m * test_instance + b\n",
    "print(\"prediction:\", y_predicted, \"residual (error): \", 2 * test_instance - y_predicted)\n",
    "\n",
    "print(\"R^2\", r * r)"
   ]
  },
  {
   "cell_type": "markdown",
   "metadata": {},
   "source": [
    "The correlation of work and flying time has a weaak negative linear relationship. As flying hours increased, work hours decreased. This would be due to time available within a day to do either."
   ]
  },
  {
   "cell_type": "markdown",
   "metadata": {},
   "source": [
    "## Conclusion\n",
    "Summary:  \n",
    "The data set I used for the kNN model was all numerical columns and whether or not I flew based on the given data. The outcome of this prediction given 3 nearest neighbors, is tha I do fly on a given day. For my linear regression data, I wanted to see the correlation between my flying hours and work hours/amount of landings. There was not a very strong correlation between the work and flying hours as I predicted. However, there was a stronger correlation between the amount of landings and flying hours.\n",
    "\n",
    "Improvements:  \n",
    "In order to improve my classification approaches, I could take out rows that are 0 aka I did not fly since there are quite a few instances of this case. That would cause the mean to be more accurate because it would not be weighted by these. \n",
    "\n",
    "Impacts:\n",
    "Potential impacts for the stakeholders of this data would vary depending on the use of this data. If this was aimed towards a career and used for a resume or hiring design, it would be important to see how they handle factors such as bad whether conditions(instrument) etc. For examiners, it would help determine if they have satisfied the requirements for passing an exam. For flight instructors, this would allow them to create plans on what to focus on and move on from.\n",
    "\n",
    "Sources: notes from class\n"
   ]
  }
 ],
 "metadata": {
  "interpreter": {
   "hash": "a73cbc3da3386d7b47c5a6a949554c537c4b6aa390527bdf88b13eae11c11f40"
  },
  "kernelspec": {
   "display_name": "Python 3.8.8 64-bit ('base': conda)",
   "language": "python",
   "name": "python3"
  },
  "language_info": {
   "codemirror_mode": {
    "name": "ipython",
    "version": 3
   },
   "file_extension": ".py",
   "mimetype": "text/x-python",
   "name": "python",
   "nbconvert_exporter": "python",
   "pygments_lexer": "ipython3",
   "version": "3.8.8"
  },
  "orig_nbformat": 4
 },
 "nbformat": 4,
 "nbformat_minor": 2
}
