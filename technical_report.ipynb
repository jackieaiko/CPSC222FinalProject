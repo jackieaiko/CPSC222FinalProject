{
 "cells": [
  {
   "cell_type": "markdown",
   "metadata": {},
   "source": [
    "# Quantified Self Project: \n",
    "# Personal Flying and Working Correlations \n",
    "by Jackie Ramsey  \n",
    "CPSC 222, Fall 2021"
   ]
  },
  {
   "cell_type": "markdown",
   "metadata": {},
   "source": [
    "## Project Domain:  \n",
    "My project domain is aviation, more specifically flying data. I am interested in this domain because I am a pilot and am working on my certifications. When I am home, I also work at the flight school that I learn at. I was interested in the correlation between my flying hours data and my work hours data that I have been collecting this past summer. \n",
    "\n",
    "### Dataset:\n",
    "* flying_logbook.csv\n",
    "    * Date\n",
    "    * Total Hours - total hours flying per day\n",
    "    * Dual Received - hours flying with instructor\n",
    "    * Pilot in Command - hours flying without instructor\n",
    "    * Day - hours flying during day\n",
    "    * Night - hours flying during night\n",
    "    * Cross-Country - hours flying a distance further than 25nm from departure point\n",
    "    * Instrument - hours flying using instruments\n",
    "    * Day Landings - amount of landings during the day\n",
    "    * Night Landings - amount of landings during the night\n",
    "* work_hours.csv\n",
    "    * Date\n",
    "    * Work - if i worked (yes/no)\n",
    "    * Work Hours - total hours of work\n",
    "\n",
    "### Classify\n",
    "* \n",
    "\n",
    "### Potential Impacts\n",
    "\n",
    "### Stakeholders\n",
    "* flight instructor\n",
    "* designated pilot examiners\n",
    "* boss or hiring "
   ]
  },
  {
   "cell_type": "markdown",
   "metadata": {},
   "source": [
    "## Data Analysis\n"
   ]
  },
  {
   "cell_type": "code",
   "execution_count": 10,
   "metadata": {},
   "outputs": [],
   "source": [
    "from numpy.core.fromnumeric import mean\n",
    "import pandas as pd\n",
    "from pandas.io.parsers import read_csv\n",
    "import numpy as np\n",
    "import matplotlib.pyplot as plt \n",
    "import scipy.stats as stats\n",
    "\n",
    "# load data into DataFrame\n",
    "flying_logbook = pd.read_csv(\"flying_logbook.csv\")\n",
    "work_hours = pd.read_csv(\"work_hours.csv\")\n",
    "\n",
    "flying_logbook_df = pd.DataFrame(flying_logbook)\n",
    "work_hours_df = pd.DataFrame(work_hours)"
   ]
  },
  {
   "cell_type": "markdown",
   "metadata": {},
   "source": [
    "### Merge Data\n",
    "Data merged on \"Date\""
   ]
  },
  {
   "cell_type": "code",
   "execution_count": 11,
   "metadata": {},
   "outputs": [],
   "source": [
    "# merge data\n",
    "merge_df = flying_logbook_df.merge(work_hours_df, on=\"Date\")\n",
    "merge_df = pd.DataFrame(merge_df)\n",
    "\n",
    "merge_df.to_csv(\"merge.csv\")"
   ]
  },
  {
   "cell_type": "markdown",
   "metadata": {},
   "source": [
    "### Clean Data\n",
    "* remove rows where i do not work or fly on that day\n",
    "* add column that says whether or no I fly\n",
    "* add column that says whether I fly and work on thaat day\n",
    "\n",
    "Challenges:\n",
    "It was difficult to sort out..."
   ]
  },
  {
   "cell_type": "code",
   "execution_count": 12,
   "metadata": {},
   "outputs": [],
   "source": [
    "# clean data \n",
    "work_or_flying = []\n",
    "flying = []\n",
    "for i in range(len(merge_df)):\n",
    "    if merge_df.at[i, \"Work\"] == \"No\" and merge_df.at[i, \"Total Hours\"] == 0:\n",
    "        work_or_flying.append(\"NaN\")\n",
    "        flying.append(\"NaN\")\n",
    "    elif merge_df.at[i, \"Work\"] == \"Yes\" and merge_df.at[i, \"Total Hours\"] != 0:\n",
    "        work_or_flying.append(\"Yes\")\n",
    "        flying.append(\"Yes\")\n",
    "    else:\n",
    "        work_or_flying.append(\"No\")\n",
    "        if merge_df.at[i, \"Work\"] == \"No\" and merge_df.at[i, \"Total Hours\"] != 0:\n",
    "            flying.append(\"Yes\")\n",
    "        else:\n",
    "            flying.append(\"No\")\n",
    "\n",
    "merge_df[\"Fly\"] = flying\n",
    "merge_df[\"Fly and Work\"] = work_or_flying\n",
    "\n",
    "for i in range(len(work_or_flying)):\n",
    "    if work_or_flying[i] == \"NaN\":\n",
    "        merge_df = merge_df.drop(i)\n",
    "\n",
    "merge_df.reset_index(inplace=True)\n",
    "merge_df = merge_df.drop(\"index\", axis=1)\n",
    "merge_df.to_csv(\"merge_cleaned.csv\")"
   ]
  },
  {
   "cell_type": "markdown",
   "metadata": {},
   "source": [
    "### Aggregation\n",
    "* split, apply, combine\n",
    "    * Flight lessons on days I also worked"
   ]
  },
  {
   "cell_type": "code",
   "execution_count": 13,
   "metadata": {},
   "outputs": [
    {
     "name": "stdout",
     "output_type": "stream",
     "text": [
      "Work\n",
      "No     2.035294\n",
      "Yes    0.738462\n",
      "Name: Dual Received, dtype: float64\n"
     ]
    }
   ],
   "source": [
    "# split, apply, combine\n",
    "# group by Work and find average flying time\n",
    "work_df = merge_df.groupby(\"Work\")\n",
    "daily_hours_ser = pd.Series(dtype=float)\n",
    "daily_hours_ser = work_df[\"Dual Received\"].mean()\n",
    "print(daily_hours_ser)"
   ]
  },
  {
   "cell_type": "markdown",
   "metadata": {},
   "source": [
    "### Visualizations"
   ]
  },
  {
   "cell_type": "code",
   "execution_count": 14,
   "metadata": {},
   "outputs": [
    {
     "data": {
      "image/png": "[encoded data removed]",
      "text/plain": [
       "<Figure size 432x288 with 1 Axes>"
      ]
     },
     "metadata": {
      "needs_background": "light"
     },
     "output_type": "display_data"
    }
   ],
   "source": [
    "# scatter plot of amount of landings per flight\n",
    "plt.figure()\n",
    "y1 = merge_df[\"Day Landings\"].squeeze()\n",
    "x1 = merge_df[\"Total Hours\"].squeeze()\n",
    "plt.scatter(x1, y1, color=\"red\", marker=\"*\")\n",
    "plt.title(\"Amount of Landings for Durations of Flying\")\n",
    "plt.xlabel(\"Flight Duration (hrs)\")\n",
    "plt.ylabel(\"Number of Landings\")\n",
    "plt.show()"
   ]
  },
  {
   "cell_type": "code",
   "execution_count": 15,
   "metadata": {},
   "outputs": [
    {
     "data": {
      "image/png": "[encoded data removed]",
      "text/plain": [
       "<Figure size 432x288 with 1 Axes>"
      ]
     },
     "metadata": {},
     "output_type": "display_data"
    }
   ],
   "source": [
    "# pi chart of pic or dual\n",
    "plt.figure()\n",
    "x = merge_df[\"Pilot in Command\"].squeeze()\n",
    "y = merge_df[\"Dual Received\"].squeeze()\n",
    "xbar = mean(x)\n",
    "ybar = mean(y)\n",
    "arr = [xbar, ybar]\n",
    "label_types = [\"Pilot in Command\", \"Dual Received\"]\n",
    "plt.pie(arr, labels=label_types, autopct=\"%1.1f%%\")\n",
    "plt.show()"
   ]
  },
  {
   "cell_type": "markdown",
   "metadata": {},
   "source": [
    "### Statistical Hypotheses"
   ]
  },
  {
   "cell_type": "code",
   "execution_count": 16,
   "metadata": {},
   "outputs": [
    {
     "name": "stdout",
     "output_type": "stream",
     "text": [
      "sp2: 0.8012354497354497\n",
      "t: 0.32594622369796916\n",
      "p: 0.373363917499927\n",
      "Do not reject H0\n"
     ]
    }
   ],
   "source": [
    "# did i fly more when I had work or when I had no work\n",
    "both = []\n",
    "flyonly = []\n",
    "for i in range(len(merge_df)):\n",
    "    if merge_df.at[i, \"Fly and Work\"] == \"Yes\":\n",
    "        both.append(merge_df.at[i, \"Total Hours\"])\n",
    "    if merge_df.at[i, \"Fly and Work\"] == \"No\" and merge_df.at[i, \"Fly\"] == \"Yes\":\n",
    "        flyonly.append(merge_df.at[i, \"Total Hours\"])\n",
    "both = pd.Series(both)\n",
    "flyonly = pd.Series(flyonly)\n",
    "\n",
    "# Step 1\n",
    "# H0: flyonly hrs > flyandwork hrs\n",
    "# H1: flyonly hrs <= flyandwork hrs\n",
    "\n",
    "# Step 2\n",
    "# los = 0.05\n",
    "\n",
    "# Step 3\n",
    "# two sample, independant one tail\n",
    "n1 = len(flyonly)\n",
    "n2 = len(both)\n",
    "df = n1 + n2 -2\n",
    "\n",
    "# Step 4\n",
    "sp2 = ((n1 - 1) * flyonly.std() ** 2 + (n2 - 1) * both.std() ** 2) / df\n",
    "t = (flyonly.mean() - both.mean()) / np.sqrt(sp2 * (1 / n1 + 1 / n2))\n",
    "t, p = stats.ttest_ind(flyonly, both)\n",
    "print(\"sp2:\", sp2)\n",
    "print(\"t:\", t)\n",
    "print(\"p:\", p/2)\n",
    "\n",
    "# Step 5\n",
    "if p/2 < 0.05:\n",
    "    print(\"Reject H0\")\n",
    "else:\n",
    "    print(\"Do not reject H0\")"
   ]
  },
  {
   "cell_type": "code",
   "execution_count": 17,
   "metadata": {},
   "outputs": [
    {
     "name": "stdout",
     "output_type": "stream",
     "text": [
      "sp2: 1.3697951048951051\n",
      "t: 3.5928014951617993\n",
      "p: 0.0003494370267483079\n",
      "Reject H0\n"
     ]
    }
   ],
   "source": [
    "# instrument training had longer flights than normal training\n",
    "# two sample, independant one tail\n",
    "ifr = []\n",
    "vfr = []\n",
    "for i in range(len(merge_df)):\n",
    "    if merge_df.at[i, \"Instrument\"] != 0:\n",
    "        ifr.append(merge_df.at[i, \"Total Hours\"])\n",
    "    else:\n",
    "        vfr.append(merge_df.at[i, \"Total Hours\"])\n",
    "ifr = pd.Series(ifr)\n",
    "vfr = pd.Series(vfr)\n",
    "\n",
    "n1 = len(ifr)\n",
    "n2 = len(vfr)\n",
    "df = n1 + n2 -2\n",
    "\n",
    "# Step 4\n",
    "sp2 = ((n1 - 1) * ifr.std() ** 2 + (n2 - 1) * vfr.std() ** 2) / df\n",
    "t = (ifr.mean() - vfr.mean()) / np.sqrt(sp2 * (1 / n1 + 1 / n2))\n",
    "t, p = stats.ttest_ind(ifr, vfr)\n",
    "print(\"sp2:\", sp2)\n",
    "print(\"t:\", t)\n",
    "print(\"p:\", p/2)\n",
    "\n",
    "# Step 5\n",
    "if p < 0.05:\n",
    "    print(\"Reject H0\")\n",
    "else:\n",
    "    print(\"Do not reject H0\")"
   ]
  },
  {
   "cell_type": "markdown",
   "metadata": {},
   "source": [
    "### Classifiers\n",
    "* kNN"
   ]
  }
 ],
 "metadata": {
  "interpreter": {
   "hash": "a73cbc3da3386d7b47c5a6a949554c537c4b6aa390527bdf88b13eae11c11f40"
  },
  "kernelspec": {
   "display_name": "Python 3.8.8 64-bit ('base': conda)",
   "language": "python",
   "name": "python3"
  },
  "language_info": {
   "codemirror_mode": {
    "name": "ipython",
    "version": 3
   },
   "file_extension": ".py",
   "mimetype": "text/x-python",
   "name": "python",
   "nbconvert_exporter": "python",
   "pygments_lexer": "ipython3",
   "version": "3.8.8"
  },
  "orig_nbformat": 4
 },
 "nbformat": 4,
 "nbformat_minor": 2
}
